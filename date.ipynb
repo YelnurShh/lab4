{
 "cells": [
  {
   "cell_type": "code",
   "execution_count": 1,
   "metadata": {},
   "outputs": [
    {
     "name": "stdout",
     "output_type": "stream",
     "text": [
      "Current Date: 2025-02-08\n",
      "Date 5 Days Ago: 2025-02-03\n"
     ]
    }
   ],
   "source": [
    "from datetime import datetime, timedelta\n",
    "\n",
    "\n",
    "date = datetime.today()\n",
    "\n",
    "\n",
    "new_date = date - timedelta(days=5)\n",
    "\n",
    "print(\"Current Date:\", date.strftime(\"%Y-%m-%d\"))\n",
    "print(\"Date 5 Days Ago:\", new_date.strftime(\"%Y-%m-%d\"))"
   ]
  },
  {
   "cell_type": "code",
   "execution_count": 2,
   "metadata": {},
   "outputs": [
    {
     "name": "stdout",
     "output_type": "stream",
     "text": [
      "Yesterday: 2025-02-07\n",
      "Today: 2025-02-08\n",
      "Tommorow: 2025-02-09\n"
     ]
    }
   ],
   "source": [
    "from datetime import datetime, timedelta\n",
    "\n",
    "date=datetime.today()\n",
    "Tom=date+timedelta(days=1)\n",
    "yes=date-timedelta(days=1)\n",
    "\n",
    "print(\"Yesterday:\", yes.strftime(\"%Y-%m-%d\"))\n",
    "print(\"Today:\", date.strftime(\"%Y-%m-%d\"))\n",
    "print(\"Tommorow:\", Tom.strftime(\"%Y-%m-%d\"))"
   ]
  },
  {
   "cell_type": "code",
   "execution_count": 74,
   "metadata": {},
   "outputs": [
    {
     "name": "stdout",
     "output_type": "stream",
     "text": [
      "Original Datetime: 2025-02-08 18:43:45.887290\n",
      "Datetime without Microseconds: 2025-02-08 18:43:45\n"
     ]
    }
   ],
   "source": [
    "from datetime import datetime\n",
    "\n",
    "current_datetime = datetime.now()\n",
    "\n",
    "new_datetime = current_datetime.replace(microsecond=0)\n",
    "\n",
    "print(\"Original Datetime:\", current_datetime)\n",
    "print(\"Datetime without Microseconds:\", new_datetime)\n"
   ]
  },
  {
   "cell_type": "code",
   "execution_count": 79,
   "metadata": {},
   "outputs": [
    {
     "name": "stdout",
     "output_type": "stream",
     "text": [
      "Dif in sec: 86400.0\n"
     ]
    }
   ],
   "source": [
    "from datetime import datetime, timedelta\n",
    "\n",
    "date=datetime(2024, 2, 8, 14, 30, 00)\n",
    "date2=datetime(2024, 2, 9, 14, 30, 00)\n",
    "\n",
    "if date>date2:\n",
    "    dif=date-date2\n",
    "else:\n",
    "    dif=date2-date\n",
    "\n",
    "print(\"Dif in sec:\", dif.total_seconds())\n"
   ]
  }
 ],
 "metadata": {
  "kernelspec": {
   "display_name": "Python 3",
   "language": "python",
   "name": "python3"
  },
  "language_info": {
   "codemirror_mode": {
    "name": "ipython",
    "version": 3
   },
   "file_extension": ".py",
   "mimetype": "text/x-python",
   "name": "python",
   "nbconvert_exporter": "python",
   "pygments_lexer": "ipython3",
   "version": "3.8.12"
  }
 },
 "nbformat": 4,
 "nbformat_minor": 2
}
