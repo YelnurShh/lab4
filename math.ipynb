{
 "cells": [
  {
   "cell_type": "code",
   "execution_count": 13,
   "metadata": {},
   "outputs": [
    {
     "name": "stdout",
     "output_type": "stream",
     "text": [
      "0.2617993877991494\n"
     ]
    }
   ],
   "source": [
    "import math\n",
    "\n",
    "def ui(degree):\n",
    "  return (degree*(math.pi/180))\n",
    "\n",
    "degree=(int(input()))\n",
    "print(ui(degree))\n"
   ]
  },
  {
   "cell_type": "code",
   "execution_count": 10,
   "metadata": {},
   "outputs": [
    {
     "name": "stdout",
     "output_type": "stream",
     "text": [
      "27.5\n"
     ]
    }
   ],
   "source": [
    "def Trap(h, b, a):\n",
    "    return ((a+b)*h)/2\n",
    "h=(int(input()))\n",
    "b=(int(input()))\n",
    "a=(int(input()))\n",
    "\n",
    "print(Trap(h, b, a))\n"
   ]
  },
  {
   "cell_type": "code",
   "execution_count": null,
   "metadata": {},
   "outputs": [
    {
     "name": "stdout",
     "output_type": "stream",
     "text": [
      "31.1769145\n"
     ]
    }
   ],
   "source": [
    "import math\n",
    "n=int(input())\n",
    "a=float(input())\n",
    "A=n*(a**2)/4*(math.tan(math.pi/n))\n",
    "\n",
    "print(round(A,6))"
   ]
  },
  {
   "cell_type": "code",
   "execution_count": null,
   "metadata": {},
   "outputs": [],
   "source": [
    "def parallelogram_area(base, height):\n",
    "    return round(base * height, 6)\n",
    "\n",
    "a=int(input())\n",
    "b=int(input())\n",
    "print( parallelogram_area(a,b))"
   ]
  }
 ],
 "metadata": {
  "kernelspec": {
   "display_name": "Python 3",
   "language": "python",
   "name": "python3"
  },
  "language_info": {
   "codemirror_mode": {
    "name": "ipython",
    "version": 3
   },
   "file_extension": ".py",
   "mimetype": "text/x-python",
   "name": "python",
   "nbconvert_exporter": "python",
   "pygments_lexer": "ipython3",
   "version": "3.8.12"
  }
 },
 "nbformat": 4,
 "nbformat_minor": 2
}
