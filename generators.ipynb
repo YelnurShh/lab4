{
 "cells": [
  {
   "cell_type": "code",
   "execution_count": 16,
   "metadata": {},
   "outputs": [
    {
     "name": "stdout",
     "output_type": "stream",
     "text": [
      "1\n"
     ]
    }
   ],
   "source": [
    "def Tab(n):\n",
    "    for i in range(1, n+1):\n",
    "       yield i**2\n",
    "h=Tab(int(input()))\n",
    "print(next(h))"
   ]
  },
  {
   "cell_type": "code",
   "execution_count": 18,
   "metadata": {},
   "outputs": [
    {
     "name": "stdout",
     "output_type": "stream",
     "text": [
      "0,2,4,6,8,10\n"
     ]
    }
   ],
   "source": [
    "def Num(n):\n",
    "    for i in range(0, n+1, 2):\n",
    "        yield i\n",
    "n=int(input())\n",
    "\n",
    "print(\",\".join(map(str, Num(n))))\n"
   ]
  },
  {
   "cell_type": "code",
   "execution_count": 2,
   "metadata": {},
   "outputs": [
    {
     "name": "stdout",
     "output_type": "stream",
     "text": [
      "0,12,24,36,48\n"
     ]
    }
   ],
   "source": [
    "def Un(n):\n",
    "    for i in  range(0, n):\n",
    "        if i%3==0 and i%4==0:\n",
    "            yield i\n",
    "n=int(input())\n",
    "\n",
    "print(\",\".join(map(str, Un(n))))"
   ]
  },
  {
   "cell_type": "code",
   "execution_count": 7,
   "metadata": {},
   "outputs": [
    {
     "name": "stdout",
     "output_type": "stream",
     "text": [
      "9\n",
      "16\n",
      "9\n"
     ]
    }
   ],
   "source": [
    "def Square(a, b):\n",
    "    for i in range(a, b+1):\n",
    "        yield i**2\n",
    "\n",
    "a=int(input())\n",
    "b=int(input())\n",
    "\n",
    "for sq in Square(a, b):\n",
    "    print(sq)\n",
    "\n",
    "h=Square(a,b)\n",
    "print(next(h))\n"
   ]
  },
  {
   "cell_type": "code",
   "execution_count": 18,
   "metadata": {},
   "outputs": [
    {
     "name": "stdout",
     "output_type": "stream",
     "text": [
      "6,5,4,3,2,1,0\n",
      "6\n",
      "5\n",
      "4\n",
      "3\n",
      "2\n",
      "1\n",
      "0\n",
      "6\n",
      "5\n",
      "4\n"
     ]
    }
   ],
   "source": [
    "def Ref(n):\n",
    "    for i in range(n, -1, -1):\n",
    "        yield i\n",
    "n=int(input())\n",
    "\n",
    "print(\",\".join(map(str, Ref(n))))\n",
    "\n",
    "\n",
    "\n",
    "for num in Ref(n):\n",
    "    print(num)\n",
    "\n",
    "\n",
    "jin=Ref(n)\n",
    "print(next(jin))\n",
    "print(next(jin))\n",
    "print(next(jin))"
   ]
  }
 ],
 "metadata": {
  "kernelspec": {
   "display_name": "Python 3",
   "language": "python",
   "name": "python3"
  },
  "language_info": {
   "codemirror_mode": {
    "name": "ipython",
    "version": 3
   },
   "file_extension": ".py",
   "mimetype": "text/x-python",
   "name": "python",
   "nbconvert_exporter": "python",
   "pygments_lexer": "ipython3",
   "version": "3.8.12"
  }
 },
 "nbformat": 4,
 "nbformat_minor": 2
}
